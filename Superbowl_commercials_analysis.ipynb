{
 "cells": [
  {
   "cell_type": "code",
   "execution_count": 1,
   "id": "8710792c",
   "metadata": {},
   "outputs": [],
   "source": [
    "# Import the necessary libraries\n",
    "import pandas as pd\n",
    "import numpy as np\n",
    "import matplotlib.pyplot as plt\n",
    "import seaborn as sns"
   ]
  },
  {
   "cell_type": "code",
   "execution_count": 2,
   "id": "28ab9ade",
   "metadata": {},
   "outputs": [],
   "source": [
    "# Load the dataset\n",
    "df = pd.read_csv(\"C:/Users/terre/Downloads/CSV_FILES/superbowl_commercials.csv\")"
   ]
  },
  {
   "cell_type": "code",
   "execution_count": 3,
   "id": "0444d047",
   "metadata": {},
   "outputs": [
    {
     "data": {
      "text/html": [
       "<div>\n",
       "<style scoped>\n",
       "    .dataframe tbody tr th:only-of-type {\n",
       "        vertical-align: middle;\n",
       "    }\n",
       "\n",
       "    .dataframe tbody tr th {\n",
       "        vertical-align: top;\n",
       "    }\n",
       "\n",
       "    .dataframe thead th {\n",
       "        text-align: right;\n",
       "    }\n",
       "</style>\n",
       "<table border=\"1\" class=\"dataframe\">\n",
       "  <thead>\n",
       "    <tr style=\"text-align: right;\">\n",
       "      <th></th>\n",
       "      <th>Year</th>\n",
       "      <th>Brand</th>\n",
       "      <th>Superbowl Ads Link</th>\n",
       "      <th>Youtube Link</th>\n",
       "      <th>Funny</th>\n",
       "      <th>Shows Product Quickly</th>\n",
       "      <th>Patriotic</th>\n",
       "      <th>Celebrity</th>\n",
       "      <th>Danger</th>\n",
       "      <th>Animals</th>\n",
       "      <th>Uses Sex</th>\n",
       "      <th>Length</th>\n",
       "      <th>Estimated Cost</th>\n",
       "      <th>Youtube Views</th>\n",
       "      <th>Youtube Likes</th>\n",
       "      <th>TV Viewers</th>\n",
       "    </tr>\n",
       "  </thead>\n",
       "  <tbody>\n",
       "    <tr>\n",
       "      <th>0</th>\n",
       "      <td>2000</td>\n",
       "      <td>E-Trade</td>\n",
       "      <td>https://superbowl-ads.com/2000-etrade-monkey-d...</td>\n",
       "      <td>https://www.youtube.com/watch?v=Muyq2kMDFoA</td>\n",
       "      <td>True</td>\n",
       "      <td>True</td>\n",
       "      <td>False</td>\n",
       "      <td>False</td>\n",
       "      <td>False</td>\n",
       "      <td>True</td>\n",
       "      <td>False</td>\n",
       "      <td>30</td>\n",
       "      <td>2.1</td>\n",
       "      <td>13615.0</td>\n",
       "      <td>84.0</td>\n",
       "      <td>88.47</td>\n",
       "    </tr>\n",
       "    <tr>\n",
       "      <th>1</th>\n",
       "      <td>2000</td>\n",
       "      <td>E-Trade</td>\n",
       "      <td>https://superbowl-ads.com/2000-etrade-money-ou...</td>\n",
       "      <td>https://www.youtube.com/watch?v=oftjwYmlfoA</td>\n",
       "      <td>True</td>\n",
       "      <td>True</td>\n",
       "      <td>False</td>\n",
       "      <td>False</td>\n",
       "      <td>True</td>\n",
       "      <td>False</td>\n",
       "      <td>False</td>\n",
       "      <td>30</td>\n",
       "      <td>2.1</td>\n",
       "      <td>72772.0</td>\n",
       "      <td>146.0</td>\n",
       "      <td>88.47</td>\n",
       "    </tr>\n",
       "    <tr>\n",
       "      <th>2</th>\n",
       "      <td>2000</td>\n",
       "      <td>Budweiser</td>\n",
       "      <td>https://superbowl-ads.com/2000-budweiser-whaas...</td>\n",
       "      <td>https://www.youtube.com/watch?v=loimTUjV92Q</td>\n",
       "      <td>True</td>\n",
       "      <td>True</td>\n",
       "      <td>False</td>\n",
       "      <td>False</td>\n",
       "      <td>False</td>\n",
       "      <td>False</td>\n",
       "      <td>False</td>\n",
       "      <td>30</td>\n",
       "      <td>2.1</td>\n",
       "      <td>5399.0</td>\n",
       "      <td>11.0</td>\n",
       "      <td>88.47</td>\n",
       "    </tr>\n",
       "    <tr>\n",
       "      <th>3</th>\n",
       "      <td>2000</td>\n",
       "      <td>Bud Light</td>\n",
       "      <td>https://superbowl-ads.com/2000-bud-light-hold-...</td>\n",
       "      <td>https://www.youtube.com/watch?v=M3IV93HwSkc</td>\n",
       "      <td>True</td>\n",
       "      <td>True</td>\n",
       "      <td>False</td>\n",
       "      <td>False</td>\n",
       "      <td>True</td>\n",
       "      <td>False</td>\n",
       "      <td>False</td>\n",
       "      <td>30</td>\n",
       "      <td>2.1</td>\n",
       "      <td>6699.0</td>\n",
       "      <td>8.0</td>\n",
       "      <td>88.47</td>\n",
       "    </tr>\n",
       "    <tr>\n",
       "      <th>4</th>\n",
       "      <td>2000</td>\n",
       "      <td>Budweiser</td>\n",
       "      <td>https://superbowl-ads.com/2000-budweiser-talki...</td>\n",
       "      <td>https://www.youtube.com/watch?v=dK1tlG778J8</td>\n",
       "      <td>True</td>\n",
       "      <td>False</td>\n",
       "      <td>False</td>\n",
       "      <td>False</td>\n",
       "      <td>False</td>\n",
       "      <td>True</td>\n",
       "      <td>False</td>\n",
       "      <td>30</td>\n",
       "      <td>2.1</td>\n",
       "      <td>18972.0</td>\n",
       "      <td>6.0</td>\n",
       "      <td>88.47</td>\n",
       "    </tr>\n",
       "  </tbody>\n",
       "</table>\n",
       "</div>"
      ],
      "text/plain": [
       "   Year      Brand                                 Superbowl Ads Link  \\\n",
       "0  2000    E-Trade  https://superbowl-ads.com/2000-etrade-monkey-d...   \n",
       "1  2000    E-Trade  https://superbowl-ads.com/2000-etrade-money-ou...   \n",
       "2  2000  Budweiser  https://superbowl-ads.com/2000-budweiser-whaas...   \n",
       "3  2000  Bud Light  https://superbowl-ads.com/2000-bud-light-hold-...   \n",
       "4  2000  Budweiser  https://superbowl-ads.com/2000-budweiser-talki...   \n",
       "\n",
       "                                  Youtube Link  Funny  Shows Product Quickly  \\\n",
       "0  https://www.youtube.com/watch?v=Muyq2kMDFoA   True                   True   \n",
       "1  https://www.youtube.com/watch?v=oftjwYmlfoA   True                   True   \n",
       "2  https://www.youtube.com/watch?v=loimTUjV92Q   True                   True   \n",
       "3  https://www.youtube.com/watch?v=M3IV93HwSkc   True                   True   \n",
       "4  https://www.youtube.com/watch?v=dK1tlG778J8   True                  False   \n",
       "\n",
       "   Patriotic  Celebrity  Danger  Animals  Uses Sex  Length  Estimated Cost  \\\n",
       "0      False      False   False     True     False      30             2.1   \n",
       "1      False      False    True    False     False      30             2.1   \n",
       "2      False      False   False    False     False      30             2.1   \n",
       "3      False      False    True    False     False      30             2.1   \n",
       "4      False      False   False     True     False      30             2.1   \n",
       "\n",
       "   Youtube Views  Youtube Likes  TV Viewers  \n",
       "0        13615.0           84.0       88.47  \n",
       "1        72772.0          146.0       88.47  \n",
       "2         5399.0           11.0       88.47  \n",
       "3         6699.0            8.0       88.47  \n",
       "4        18972.0            6.0       88.47  "
      ]
     },
     "execution_count": 3,
     "metadata": {},
     "output_type": "execute_result"
    }
   ],
   "source": [
    "df.head()"
   ]
  },
  {
   "cell_type": "markdown",
   "id": "3877bfcd",
   "metadata": {},
   "source": [
    "# Data cleaning"
   ]
  },
  {
   "cell_type": "code",
   "execution_count": 4,
   "id": "29381f5e",
   "metadata": {},
   "outputs": [
    {
     "data": {
      "text/plain": [
       "Year                       int64\n",
       "Brand                     object\n",
       "Superbowl Ads Link        object\n",
       "Youtube Link              object\n",
       "Funny                       bool\n",
       "Shows Product Quickly       bool\n",
       "Patriotic                   bool\n",
       "Celebrity                   bool\n",
       "Danger                      bool\n",
       "Animals                     bool\n",
       "Uses Sex                    bool\n",
       "Length                     int64\n",
       "Estimated Cost           float64\n",
       "Youtube Views            float64\n",
       "Youtube Likes            float64\n",
       "TV Viewers               float64\n",
       "dtype: object"
      ]
     },
     "execution_count": 4,
     "metadata": {},
     "output_type": "execute_result"
    }
   ],
   "source": [
    "df.dtypes"
   ]
  },
  {
   "cell_type": "code",
   "execution_count": 5,
   "id": "4db8c05a",
   "metadata": {},
   "outputs": [
    {
     "name": "stdout",
     "output_type": "stream",
     "text": [
      "Number of rows: 249\n",
      "Number of columns: 16\n"
     ]
    }
   ],
   "source": [
    "# Checking the number of rows and columns in the dataset\n",
    "print(\"Number of rows:\", df.shape[0])\n",
    "print(\"Number of columns:\", df.shape[1])"
   ]
  },
  {
   "cell_type": "code",
   "execution_count": 6,
   "id": "20ec9612",
   "metadata": {},
   "outputs": [
    {
     "name": "stdout",
     "output_type": "stream",
     "text": [
      "Year                      0\n",
      "Brand                     0\n",
      "Superbowl Ads Link        0\n",
      "Youtube Link              9\n",
      "Funny                     0\n",
      "Shows Product Quickly     0\n",
      "Patriotic                 0\n",
      "Celebrity                 0\n",
      "Danger                    0\n",
      "Animals                   0\n",
      "Uses Sex                  0\n",
      "Length                    0\n",
      "Estimated Cost            0\n",
      "Youtube Views            12\n",
      "Youtube Likes            18\n",
      "TV Viewers                0\n",
      "dtype: int64\n"
     ]
    }
   ],
   "source": [
    "print(df.isnull().sum())"
   ]
  },
  {
   "cell_type": "code",
   "execution_count": 7,
   "id": "53c2b025",
   "metadata": {},
   "outputs": [],
   "source": [
    "df.drop(['Superbowl Ads Link', 'Youtube Link'], axis=1, inplace=True)"
   ]
  },
  {
   "cell_type": "code",
   "execution_count": 8,
   "id": "dd288800",
   "metadata": {},
   "outputs": [],
   "source": [
    "#filling the missing values with their mean\n",
    "df[\"Youtube Views\"].fillna(df[\"Youtube Views\"].median(), inplace=True)\n",
    "df[\"Youtube Likes\"].fillna(df[\"Youtube Likes\"].median(), inplace=True)"
   ]
  },
  {
   "cell_type": "code",
   "execution_count": 9,
   "id": "67e8c131",
   "metadata": {},
   "outputs": [
    {
     "name": "stdout",
     "output_type": "stream",
     "text": [
      "Year                     0\n",
      "Brand                    0\n",
      "Funny                    0\n",
      "Shows Product Quickly    0\n",
      "Patriotic                0\n",
      "Celebrity                0\n",
      "Danger                   0\n",
      "Animals                  0\n",
      "Uses Sex                 0\n",
      "Length                   0\n",
      "Estimated Cost           0\n",
      "Youtube Views            0\n",
      "Youtube Likes            0\n",
      "TV Viewers               0\n",
      "dtype: int64\n"
     ]
    }
   ],
   "source": [
    "print(df.isnull().sum())"
   ]
  },
  {
   "cell_type": "code",
   "execution_count": 10,
   "id": "b90d77ea",
   "metadata": {},
   "outputs": [
    {
     "name": "stdout",
     "output_type": "stream",
     "text": [
      "0\n"
     ]
    }
   ],
   "source": [
    "print(df.duplicated().sum())"
   ]
  },
  {
   "cell_type": "code",
   "execution_count": 11,
   "id": "9229b6e0",
   "metadata": {},
   "outputs": [
    {
     "name": "stdout",
     "output_type": "stream",
     "text": [
      "              Year      Length  Estimated Cost  Youtube Views  Youtube Likes  \\\n",
      "count   249.000000  249.000000      249.000000   2.490000e+02     249.000000   \n",
      "mean   2010.469880   44.457831        5.156888   1.496305e+06    4729.441432   \n",
      "std       6.002024   21.331845        4.075974   1.200241e+07   27368.042515   \n",
      "min    2000.000000   10.000000        0.980000   5.000000e+00       0.000000   \n",
      "25%    2006.000000   30.000000        2.400000   8.062000e+03      28.000000   \n",
      "50%    2010.000000   30.000000        3.150000   4.730900e+04     146.000000   \n",
      "75%    2015.000000   60.000000        5.900000   1.796450e+05     590.000000   \n",
      "max    2021.000000  180.000000       31.730000   1.814238e+08  295000.000000   \n",
      "\n",
      "       TV Viewers  \n",
      "count  249.000000  \n",
      "mean   100.475341  \n",
      "std     12.819811  \n",
      "min     84.340000  \n",
      "25%     90.750000  \n",
      "50%     98.730000  \n",
      "75%    111.010000  \n",
      "max    232.000000  \n"
     ]
    }
   ],
   "source": [
    "# Descriptive statistics of the numerical columns\n",
    "print(df.describe())"
   ]
  },
  {
   "cell_type": "code",
   "execution_count": 12,
   "id": "00678660",
   "metadata": {},
   "outputs": [],
   "source": [
    "df.drop(['Youtube Likes'], axis=1, inplace=True)"
   ]
  },
  {
   "cell_type": "code",
   "execution_count": 13,
   "id": "128f02e2",
   "metadata": {},
   "outputs": [
    {
     "data": {
      "image/png": "[encoded data removed]",
      "text/plain": [
       "<Figure size 640x480 with 1 Axes>"
      ]
     },
     "metadata": {},
     "output_type": "display_data"
    },
    {
     "data": {
      "image/png": "[encoded data removed]",
      "text/plain": [
       "<Figure size 640x480 with 1 Axes>"
      ]
     },
     "metadata": {},
     "output_type": "display_data"
    },
    {
     "data": {
      "image/png": "[encoded data removed]",
      "text/plain": [
       "<Figure size 640x480 with 1 Axes>"
      ]
     },
     "metadata": {},
     "output_type": "display_data"
    },
    {
     "data": {
      "image/png": "[encoded data removed]",
      "text/plain": [
       "<Figure size 640x480 with 1 Axes>"
      ]
     },
     "metadata": {},
     "output_type": "display_data"
    }
   ],
   "source": [
    "# Check for outliers\n",
    "columns = [\"Length\", \"Estimated Cost\", \"Youtube Views\", \"TV Viewers\"]\n",
    "for column in columns:\n",
    "    plt.boxplot(df[column], vert=False)\n",
    "    plt.title(column)\n",
    "    plt.show()"
   ]
  },
  {
   "cell_type": "code",
   "execution_count": 14,
   "id": "6d553a88",
   "metadata": {},
   "outputs": [
    {
     "data": {
      "text/plain": [
       "<function matplotlib.pyplot.show(close=None, block=None)>"
      ]
     },
     "execution_count": 14,
     "metadata": {},
     "output_type": "execute_result"
    },
    {
     "data": {
      "image/png": "[encoded data removed]",
      "text/plain": [
       "<Figure size 640x480 with 1 Axes>"
      ]
     },
     "metadata": {},
     "output_type": "display_data"
    }
   ],
   "source": [
    "plt.boxplot(df[\"Year\"], vert=False)\n",
    "plt.show"
   ]
  },
  {
   "cell_type": "markdown",
   "id": "05e86bad",
   "metadata": {},
   "source": [
    "This shows the presence of outliers in the columns as well as the distribution being positively skewed\n",
    "\n",
    "we removed outliers from the \"estimated_cost\" column because it is the variable that has the most significant impact on the total cost of each commercial. If there are extreme values or outliers in this column, they can have a disproportionate effect on the calculated total cost. This could lead to inaccurate results when analyzing the data, particularly when comparing costs across different brands or years.\n",
    "\n",
    "On the other hand, we chose to adjust the outliers in other columns such as \"length\" and \"TV_viewers_millions\" because they do not have as significant an impact on the analysis as \"estimated_cost\". Removing or imputing too many values from these columns could result in a significant loss of data, which could negatively impact the accuracy of any analysis. Therefore, we chose to adjust the outliers in these columns by replacing them with more reasonable values based on the characteristics of the data. This helps to ensure that the overall dataset is more balanced and reflects the true distribution of the underlying data.\n",
    "\n",
    "In summary, the decision to remove or adjust outliers in a given column should depend on the specific characteristics of the data, the goals of the analysis, and the potential impact of the variable on the overall analysis.\n"
   ]
  },
  {
   "cell_type": "code",
   "execution_count": 15,
   "id": "a6176df5",
   "metadata": {},
   "outputs": [
    {
     "data": {
      "text/html": [
       "<div>\n",
       "<style scoped>\n",
       "    .dataframe tbody tr th:only-of-type {\n",
       "        vertical-align: middle;\n",
       "    }\n",
       "\n",
       "    .dataframe tbody tr th {\n",
       "        vertical-align: top;\n",
       "    }\n",
       "\n",
       "    .dataframe thead th {\n",
       "        text-align: right;\n",
       "    }\n",
       "</style>\n",
       "<table border=\"1\" class=\"dataframe\">\n",
       "  <thead>\n",
       "    <tr style=\"text-align: right;\">\n",
       "      <th></th>\n",
       "      <th>Year</th>\n",
       "      <th>Brand</th>\n",
       "      <th>Funny</th>\n",
       "      <th>Shows Product Quickly</th>\n",
       "      <th>Patriotic</th>\n",
       "      <th>Celebrity</th>\n",
       "      <th>Danger</th>\n",
       "      <th>Animals</th>\n",
       "      <th>Uses Sex</th>\n",
       "      <th>Length</th>\n",
       "      <th>Estimated Cost</th>\n",
       "      <th>Youtube Views</th>\n",
       "      <th>TV Viewers</th>\n",
       "    </tr>\n",
       "  </thead>\n",
       "  <tbody>\n",
       "    <tr>\n",
       "      <th>0</th>\n",
       "      <td>2000</td>\n",
       "      <td>E-Trade</td>\n",
       "      <td>True</td>\n",
       "      <td>True</td>\n",
       "      <td>False</td>\n",
       "      <td>False</td>\n",
       "      <td>False</td>\n",
       "      <td>True</td>\n",
       "      <td>False</td>\n",
       "      <td>30</td>\n",
       "      <td>2.1</td>\n",
       "      <td>13615.0</td>\n",
       "      <td>88.47</td>\n",
       "    </tr>\n",
       "    <tr>\n",
       "      <th>1</th>\n",
       "      <td>2000</td>\n",
       "      <td>E-Trade</td>\n",
       "      <td>True</td>\n",
       "      <td>True</td>\n",
       "      <td>False</td>\n",
       "      <td>False</td>\n",
       "      <td>True</td>\n",
       "      <td>False</td>\n",
       "      <td>False</td>\n",
       "      <td>30</td>\n",
       "      <td>2.1</td>\n",
       "      <td>72772.0</td>\n",
       "      <td>88.47</td>\n",
       "    </tr>\n",
       "    <tr>\n",
       "      <th>2</th>\n",
       "      <td>2000</td>\n",
       "      <td>Budweiser</td>\n",
       "      <td>True</td>\n",
       "      <td>True</td>\n",
       "      <td>False</td>\n",
       "      <td>False</td>\n",
       "      <td>False</td>\n",
       "      <td>False</td>\n",
       "      <td>False</td>\n",
       "      <td>30</td>\n",
       "      <td>2.1</td>\n",
       "      <td>5399.0</td>\n",
       "      <td>88.47</td>\n",
       "    </tr>\n",
       "    <tr>\n",
       "      <th>3</th>\n",
       "      <td>2000</td>\n",
       "      <td>Bud Light</td>\n",
       "      <td>True</td>\n",
       "      <td>True</td>\n",
       "      <td>False</td>\n",
       "      <td>False</td>\n",
       "      <td>True</td>\n",
       "      <td>False</td>\n",
       "      <td>False</td>\n",
       "      <td>30</td>\n",
       "      <td>2.1</td>\n",
       "      <td>6699.0</td>\n",
       "      <td>88.47</td>\n",
       "    </tr>\n",
       "    <tr>\n",
       "      <th>4</th>\n",
       "      <td>2000</td>\n",
       "      <td>Budweiser</td>\n",
       "      <td>True</td>\n",
       "      <td>False</td>\n",
       "      <td>False</td>\n",
       "      <td>False</td>\n",
       "      <td>False</td>\n",
       "      <td>True</td>\n",
       "      <td>False</td>\n",
       "      <td>30</td>\n",
       "      <td>2.1</td>\n",
       "      <td>18972.0</td>\n",
       "      <td>88.47</td>\n",
       "    </tr>\n",
       "    <tr>\n",
       "      <th>...</th>\n",
       "      <td>...</td>\n",
       "      <td>...</td>\n",
       "      <td>...</td>\n",
       "      <td>...</td>\n",
       "      <td>...</td>\n",
       "      <td>...</td>\n",
       "      <td>...</td>\n",
       "      <td>...</td>\n",
       "      <td>...</td>\n",
       "      <td>...</td>\n",
       "      <td>...</td>\n",
       "      <td>...</td>\n",
       "      <td>...</td>\n",
       "    </tr>\n",
       "    <tr>\n",
       "      <th>244</th>\n",
       "      <td>2021</td>\n",
       "      <td>E-Trade</td>\n",
       "      <td>True</td>\n",
       "      <td>False</td>\n",
       "      <td>False</td>\n",
       "      <td>True</td>\n",
       "      <td>False</td>\n",
       "      <td>False</td>\n",
       "      <td>False</td>\n",
       "      <td>30</td>\n",
       "      <td>5.5</td>\n",
       "      <td>177.0</td>\n",
       "      <td>91.63</td>\n",
       "    </tr>\n",
       "    <tr>\n",
       "      <th>245</th>\n",
       "      <td>2021</td>\n",
       "      <td>Toyota</td>\n",
       "      <td>False</td>\n",
       "      <td>False</td>\n",
       "      <td>True</td>\n",
       "      <td>False</td>\n",
       "      <td>False</td>\n",
       "      <td>False</td>\n",
       "      <td>False</td>\n",
       "      <td>60</td>\n",
       "      <td>11.0</td>\n",
       "      <td>1399700.0</td>\n",
       "      <td>91.63</td>\n",
       "    </tr>\n",
       "    <tr>\n",
       "      <th>246</th>\n",
       "      <td>2021</td>\n",
       "      <td>Bud Light</td>\n",
       "      <td>True</td>\n",
       "      <td>True</td>\n",
       "      <td>False</td>\n",
       "      <td>True</td>\n",
       "      <td>True</td>\n",
       "      <td>False</td>\n",
       "      <td>False</td>\n",
       "      <td>60</td>\n",
       "      <td>11.0</td>\n",
       "      <td>4250.0</td>\n",
       "      <td>91.63</td>\n",
       "    </tr>\n",
       "    <tr>\n",
       "      <th>247</th>\n",
       "      <td>2021</td>\n",
       "      <td>Doritos</td>\n",
       "      <td>True</td>\n",
       "      <td>False</td>\n",
       "      <td>False</td>\n",
       "      <td>True</td>\n",
       "      <td>True</td>\n",
       "      <td>True</td>\n",
       "      <td>False</td>\n",
       "      <td>60</td>\n",
       "      <td>11.0</td>\n",
       "      <td>21546933.0</td>\n",
       "      <td>91.63</td>\n",
       "    </tr>\n",
       "    <tr>\n",
       "      <th>248</th>\n",
       "      <td>2021</td>\n",
       "      <td>Bud Light</td>\n",
       "      <td>True</td>\n",
       "      <td>True</td>\n",
       "      <td>False</td>\n",
       "      <td>False</td>\n",
       "      <td>True</td>\n",
       "      <td>False</td>\n",
       "      <td>False</td>\n",
       "      <td>60</td>\n",
       "      <td>11.0</td>\n",
       "      <td>5140823.0</td>\n",
       "      <td>91.63</td>\n",
       "    </tr>\n",
       "  </tbody>\n",
       "</table>\n",
       "<p>249 rows × 13 columns</p>\n",
       "</div>"
      ],
      "text/plain": [
       "     Year      Brand  Funny  Shows Product Quickly  Patriotic  Celebrity  \\\n",
       "0    2000    E-Trade   True                   True      False      False   \n",
       "1    2000    E-Trade   True                   True      False      False   \n",
       "2    2000  Budweiser   True                   True      False      False   \n",
       "3    2000  Bud Light   True                   True      False      False   \n",
       "4    2000  Budweiser   True                  False      False      False   \n",
       "..    ...        ...    ...                    ...        ...        ...   \n",
       "244  2021    E-Trade   True                  False      False       True   \n",
       "245  2021     Toyota  False                  False       True      False   \n",
       "246  2021  Bud Light   True                   True      False       True   \n",
       "247  2021    Doritos   True                  False      False       True   \n",
       "248  2021  Bud Light   True                   True      False      False   \n",
       "\n",
       "     Danger  Animals  Uses Sex  Length  Estimated Cost  Youtube Views  \\\n",
       "0     False     True     False      30             2.1        13615.0   \n",
       "1      True    False     False      30             2.1        72772.0   \n",
       "2     False    False     False      30             2.1         5399.0   \n",
       "3      True    False     False      30             2.1         6699.0   \n",
       "4     False     True     False      30             2.1        18972.0   \n",
       "..      ...      ...       ...     ...             ...            ...   \n",
       "244   False    False     False      30             5.5          177.0   \n",
       "245   False    False     False      60            11.0      1399700.0   \n",
       "246    True    False     False      60            11.0         4250.0   \n",
       "247    True     True     False      60            11.0     21546933.0   \n",
       "248    True    False     False      60            11.0      5140823.0   \n",
       "\n",
       "     TV Viewers  \n",
       "0         88.47  \n",
       "1         88.47  \n",
       "2         88.47  \n",
       "3         88.47  \n",
       "4         88.47  \n",
       "..          ...  \n",
       "244       91.63  \n",
       "245       91.63  \n",
       "246       91.63  \n",
       "247       91.63  \n",
       "248       91.63  \n",
       "\n",
       "[249 rows x 13 columns]"
      ]
     },
     "execution_count": 15,
     "metadata": {},
     "output_type": "execute_result"
    }
   ],
   "source": [
    "df"
   ]
  },
  {
   "cell_type": "code",
   "execution_count": 16,
   "id": "5ccae286",
   "metadata": {},
   "outputs": [
    {
     "name": "stderr",
     "output_type": "stream",
     "text": [
      "C:\\Users\\terre\\AppData\\Local\\Temp\\ipykernel_13344\\2509286012.py:10: SettingWithCopyWarning: \n",
      "A value is trying to be set on a copy of a slice from a DataFrame.\n",
      "Try using .loc[row_indexer,col_indexer] = value instead\n",
      "\n",
      "See the caveats in the documentation: https://pandas.pydata.org/pandas-docs/stable/user_guide/indexing.html#returning-a-view-versus-a-copy\n",
      "  df[\"Youtube Views\"] = np.where(df[\"Youtube Views\"] > 5000000, 5000000, df[\"Youtube Views\"])\n",
      "C:\\Users\\terre\\AppData\\Local\\Temp\\ipykernel_13344\\2509286012.py:11: SettingWithCopyWarning: \n",
      "A value is trying to be set on a copy of a slice from a DataFrame.\n",
      "Try using .loc[row_indexer,col_indexer] = value instead\n",
      "\n",
      "See the caveats in the documentation: https://pandas.pydata.org/pandas-docs/stable/user_guide/indexing.html#returning-a-view-versus-a-copy\n",
      "  df[\"TV Viewers\"] = np.where(df[\"TV Viewers\"] > 10000000, 10000000, df[\"TV Viewers\"])\n"
     ]
    }
   ],
   "source": [
    "# Remove outliers\n",
    "q1 = df[\"Estimated Cost\"].quantile(0.25)\n",
    "q3 = df[\"Estimated Cost\"].quantile(0.75)\n",
    "iqr = q3 - q1\n",
    "outlier_threshold = q3 + 1.5 * iqr\n",
    "\n",
    "df = df[df[\"Estimated Cost\"] < outlier_threshold]\n",
    "\n",
    "# Adjust outliers\n",
    "df[\"Youtube Views\"] = np.where(df[\"Youtube Views\"] > 5000000, 5000000, df[\"Youtube Views\"])\n",
    "df[\"TV Viewers\"] = np.where(df[\"TV Viewers\"] > 10000000, 10000000, df[\"TV Viewers\"])\n"
   ]
  },
  {
   "cell_type": "code",
   "execution_count": 17,
   "id": "65b132fb",
   "metadata": {},
   "outputs": [
    {
     "data": {
      "image/png": "[encoded data removed]",
      "text/plain": [
       "<Figure size 640x480 with 1 Axes>"
      ]
     },
     "metadata": {},
     "output_type": "display_data"
    },
    {
     "data": {
      "image/png": "[encoded data removed]",
      "text/plain": [
       "<Figure size 640x480 with 1 Axes>"
      ]
     },
     "metadata": {},
     "output_type": "display_data"
    },
    {
     "data": {
      "image/png": "[encoded data removed]",
      "text/plain": [
       "<Figure size 640x480 with 1 Axes>"
      ]
     },
     "metadata": {},
     "output_type": "display_data"
    },
    {
     "data": {
      "image/png": "[encoded data removed]",
      "text/plain": [
       "<Figure size 640x480 with 1 Axes>"
      ]
     },
     "metadata": {},
     "output_type": "display_data"
    }
   ],
   "source": [
    "# Check for outliers again\n",
    "columns = [\"Length\", \"Estimated Cost\", \"Youtube Views\", \"TV Viewers\"]\n",
    "for column in columns:\n",
    "    plt.boxplot(df[column], vert=False)\n",
    "    plt.title(column)\n",
    "    plt.show()"
   ]
  },
  {
   "cell_type": "code",
   "execution_count": 18,
   "id": "91e4d4cd",
   "metadata": {},
   "outputs": [
    {
     "name": "stdout",
     "output_type": "stream",
     "text": [
      "              Year      Length  Estimated Cost  Youtube Views  TV Viewers\n",
      "count   234.000000  234.000000      234.000000   2.340000e+02  234.000000\n",
      "mean   2009.944444   41.709402        4.498440   3.491904e+05  100.257094\n",
      "std       5.793395   16.242032        2.795125   9.748486e+05   13.120857\n",
      "min    2000.000000   10.000000        0.980000   5.000000e+00   84.340000\n",
      "25%    2005.000000   30.000000        2.400000   7.535250e+03   89.800000\n",
      "50%    2010.000000   30.000000        2.950000   4.730900e+04   98.730000\n",
      "75%    2014.000000   60.000000        5.900000   1.743192e+05  111.010000\n",
      "max    2021.000000   90.000000       11.000000   5.000000e+06  232.000000\n"
     ]
    }
   ],
   "source": [
    "print(df.describe())"
   ]
  },
  {
   "cell_type": "code",
   "execution_count": 19,
   "id": "6f81fcd7",
   "metadata": {},
   "outputs": [
    {
     "name": "stderr",
     "output_type": "stream",
     "text": [
      "C:\\Users\\terre\\AppData\\Local\\Temp\\ipykernel_13344\\3156193336.py:2: SettingWithCopyWarning: \n",
      "A value is trying to be set on a copy of a slice from a DataFrame.\n",
      "Try using .loc[row_indexer,col_indexer] = value instead\n",
      "\n",
      "See the caveats in the documentation: https://pandas.pydata.org/pandas-docs/stable/user_guide/indexing.html#returning-a-view-versus-a-copy\n",
      "  df[\"Total Cost\"] = df[\"Length\"] * df[\"Estimated Cost\"]\n"
     ]
    }
   ],
   "source": [
    "# Calculate the total cost of each commercial\n",
    "df[\"Total Cost\"] = df[\"Length\"] * df[\"Estimated Cost\"]"
   ]
  },
  {
   "cell_type": "code",
   "execution_count": 20,
   "id": "c8da8eb6",
   "metadata": {},
   "outputs": [
    {
     "name": "stderr",
     "output_type": "stream",
     "text": [
      "C:\\Users\\terre\\AppData\\Local\\Temp\\ipykernel_13344\\3386322053.py:2: SettingWithCopyWarning: \n",
      "A value is trying to be set on a copy of a slice from a DataFrame.\n",
      "Try using .loc[row_indexer,col_indexer] = value instead\n",
      "\n",
      "See the caveats in the documentation: https://pandas.pydata.org/pandas-docs/stable/user_guide/indexing.html#returning-a-view-versus-a-copy\n",
      "  df[\"Total Views\"] = df[\"Youtube Views\"] + df[\"TV Viewers\"]\n"
     ]
    }
   ],
   "source": [
    "# Calculate the total cost of each commercial\n",
    "df[\"Total Views\"] = df[\"Youtube Views\"] + df[\"TV Viewers\"]"
   ]
  },
  {
   "cell_type": "code",
   "execution_count": 21,
   "id": "9e3c2864",
   "metadata": {},
   "outputs": [
    {
     "data": {
      "text/html": [
       "<div>\n",
       "<style scoped>\n",
       "    .dataframe tbody tr th:only-of-type {\n",
       "        vertical-align: middle;\n",
       "    }\n",
       "\n",
       "    .dataframe tbody tr th {\n",
       "        vertical-align: top;\n",
       "    }\n",
       "\n",
       "    .dataframe thead th {\n",
       "        text-align: right;\n",
       "    }\n",
       "</style>\n",
       "<table border=\"1\" class=\"dataframe\">\n",
       "  <thead>\n",
       "    <tr style=\"text-align: right;\">\n",
       "      <th></th>\n",
       "      <th>Year</th>\n",
       "      <th>Brand</th>\n",
       "      <th>Funny</th>\n",
       "      <th>Shows Product Quickly</th>\n",
       "      <th>Patriotic</th>\n",
       "      <th>Celebrity</th>\n",
       "      <th>Danger</th>\n",
       "      <th>Animals</th>\n",
       "      <th>Uses Sex</th>\n",
       "      <th>Length</th>\n",
       "      <th>Estimated Cost</th>\n",
       "      <th>Youtube Views</th>\n",
       "      <th>TV Viewers</th>\n",
       "      <th>Total Cost</th>\n",
       "      <th>Total Views</th>\n",
       "    </tr>\n",
       "  </thead>\n",
       "  <tbody>\n",
       "    <tr>\n",
       "      <th>0</th>\n",
       "      <td>2000</td>\n",
       "      <td>E-Trade</td>\n",
       "      <td>True</td>\n",
       "      <td>True</td>\n",
       "      <td>False</td>\n",
       "      <td>False</td>\n",
       "      <td>False</td>\n",
       "      <td>True</td>\n",
       "      <td>False</td>\n",
       "      <td>30</td>\n",
       "      <td>2.1</td>\n",
       "      <td>13615.0</td>\n",
       "      <td>88.47</td>\n",
       "      <td>63.0</td>\n",
       "      <td>13703.47</td>\n",
       "    </tr>\n",
       "    <tr>\n",
       "      <th>1</th>\n",
       "      <td>2000</td>\n",
       "      <td>E-Trade</td>\n",
       "      <td>True</td>\n",
       "      <td>True</td>\n",
       "      <td>False</td>\n",
       "      <td>False</td>\n",
       "      <td>True</td>\n",
       "      <td>False</td>\n",
       "      <td>False</td>\n",
       "      <td>30</td>\n",
       "      <td>2.1</td>\n",
       "      <td>72772.0</td>\n",
       "      <td>88.47</td>\n",
       "      <td>63.0</td>\n",
       "      <td>72860.47</td>\n",
       "    </tr>\n",
       "    <tr>\n",
       "      <th>2</th>\n",
       "      <td>2000</td>\n",
       "      <td>Budweiser</td>\n",
       "      <td>True</td>\n",
       "      <td>True</td>\n",
       "      <td>False</td>\n",
       "      <td>False</td>\n",
       "      <td>False</td>\n",
       "      <td>False</td>\n",
       "      <td>False</td>\n",
       "      <td>30</td>\n",
       "      <td>2.1</td>\n",
       "      <td>5399.0</td>\n",
       "      <td>88.47</td>\n",
       "      <td>63.0</td>\n",
       "      <td>5487.47</td>\n",
       "    </tr>\n",
       "    <tr>\n",
       "      <th>3</th>\n",
       "      <td>2000</td>\n",
       "      <td>Bud Light</td>\n",
       "      <td>True</td>\n",
       "      <td>True</td>\n",
       "      <td>False</td>\n",
       "      <td>False</td>\n",
       "      <td>True</td>\n",
       "      <td>False</td>\n",
       "      <td>False</td>\n",
       "      <td>30</td>\n",
       "      <td>2.1</td>\n",
       "      <td>6699.0</td>\n",
       "      <td>88.47</td>\n",
       "      <td>63.0</td>\n",
       "      <td>6787.47</td>\n",
       "    </tr>\n",
       "    <tr>\n",
       "      <th>4</th>\n",
       "      <td>2000</td>\n",
       "      <td>Budweiser</td>\n",
       "      <td>True</td>\n",
       "      <td>False</td>\n",
       "      <td>False</td>\n",
       "      <td>False</td>\n",
       "      <td>False</td>\n",
       "      <td>True</td>\n",
       "      <td>False</td>\n",
       "      <td>30</td>\n",
       "      <td>2.1</td>\n",
       "      <td>18972.0</td>\n",
       "      <td>88.47</td>\n",
       "      <td>63.0</td>\n",
       "      <td>19060.47</td>\n",
       "    </tr>\n",
       "    <tr>\n",
       "      <th>...</th>\n",
       "      <td>...</td>\n",
       "      <td>...</td>\n",
       "      <td>...</td>\n",
       "      <td>...</td>\n",
       "      <td>...</td>\n",
       "      <td>...</td>\n",
       "      <td>...</td>\n",
       "      <td>...</td>\n",
       "      <td>...</td>\n",
       "      <td>...</td>\n",
       "      <td>...</td>\n",
       "      <td>...</td>\n",
       "      <td>...</td>\n",
       "      <td>...</td>\n",
       "      <td>...</td>\n",
       "    </tr>\n",
       "    <tr>\n",
       "      <th>244</th>\n",
       "      <td>2021</td>\n",
       "      <td>E-Trade</td>\n",
       "      <td>True</td>\n",
       "      <td>False</td>\n",
       "      <td>False</td>\n",
       "      <td>True</td>\n",
       "      <td>False</td>\n",
       "      <td>False</td>\n",
       "      <td>False</td>\n",
       "      <td>30</td>\n",
       "      <td>5.5</td>\n",
       "      <td>177.0</td>\n",
       "      <td>91.63</td>\n",
       "      <td>165.0</td>\n",
       "      <td>268.63</td>\n",
       "    </tr>\n",
       "    <tr>\n",
       "      <th>245</th>\n",
       "      <td>2021</td>\n",
       "      <td>Toyota</td>\n",
       "      <td>False</td>\n",
       "      <td>False</td>\n",
       "      <td>True</td>\n",
       "      <td>False</td>\n",
       "      <td>False</td>\n",
       "      <td>False</td>\n",
       "      <td>False</td>\n",
       "      <td>60</td>\n",
       "      <td>11.0</td>\n",
       "      <td>1399700.0</td>\n",
       "      <td>91.63</td>\n",
       "      <td>660.0</td>\n",
       "      <td>1399791.63</td>\n",
       "    </tr>\n",
       "    <tr>\n",
       "      <th>246</th>\n",
       "      <td>2021</td>\n",
       "      <td>Bud Light</td>\n",
       "      <td>True</td>\n",
       "      <td>True</td>\n",
       "      <td>False</td>\n",
       "      <td>True</td>\n",
       "      <td>True</td>\n",
       "      <td>False</td>\n",
       "      <td>False</td>\n",
       "      <td>60</td>\n",
       "      <td>11.0</td>\n",
       "      <td>4250.0</td>\n",
       "      <td>91.63</td>\n",
       "      <td>660.0</td>\n",
       "      <td>4341.63</td>\n",
       "    </tr>\n",
       "    <tr>\n",
       "      <th>247</th>\n",
       "      <td>2021</td>\n",
       "      <td>Doritos</td>\n",
       "      <td>True</td>\n",
       "      <td>False</td>\n",
       "      <td>False</td>\n",
       "      <td>True</td>\n",
       "      <td>True</td>\n",
       "      <td>True</td>\n",
       "      <td>False</td>\n",
       "      <td>60</td>\n",
       "      <td>11.0</td>\n",
       "      <td>5000000.0</td>\n",
       "      <td>91.63</td>\n",
       "      <td>660.0</td>\n",
       "      <td>5000091.63</td>\n",
       "    </tr>\n",
       "    <tr>\n",
       "      <th>248</th>\n",
       "      <td>2021</td>\n",
       "      <td>Bud Light</td>\n",
       "      <td>True</td>\n",
       "      <td>True</td>\n",
       "      <td>False</td>\n",
       "      <td>False</td>\n",
       "      <td>True</td>\n",
       "      <td>False</td>\n",
       "      <td>False</td>\n",
       "      <td>60</td>\n",
       "      <td>11.0</td>\n",
       "      <td>5000000.0</td>\n",
       "      <td>91.63</td>\n",
       "      <td>660.0</td>\n",
       "      <td>5000091.63</td>\n",
       "    </tr>\n",
       "  </tbody>\n",
       "</table>\n",
       "<p>234 rows × 15 columns</p>\n",
       "</div>"
      ],
      "text/plain": [
       "     Year      Brand  Funny  Shows Product Quickly  Patriotic  Celebrity  \\\n",
       "0    2000    E-Trade   True                   True      False      False   \n",
       "1    2000    E-Trade   True                   True      False      False   \n",
       "2    2000  Budweiser   True                   True      False      False   \n",
       "3    2000  Bud Light   True                   True      False      False   \n",
       "4    2000  Budweiser   True                  False      False      False   \n",
       "..    ...        ...    ...                    ...        ...        ...   \n",
       "244  2021    E-Trade   True                  False      False       True   \n",
       "245  2021     Toyota  False                  False       True      False   \n",
       "246  2021  Bud Light   True                   True      False       True   \n",
       "247  2021    Doritos   True                  False      False       True   \n",
       "248  2021  Bud Light   True                   True      False      False   \n",
       "\n",
       "     Danger  Animals  Uses Sex  Length  Estimated Cost  Youtube Views  \\\n",
       "0     False     True     False      30             2.1        13615.0   \n",
       "1      True    False     False      30             2.1        72772.0   \n",
       "2     False    False     False      30             2.1         5399.0   \n",
       "3      True    False     False      30             2.1         6699.0   \n",
       "4     False     True     False      30             2.1        18972.0   \n",
       "..      ...      ...       ...     ...             ...            ...   \n",
       "244   False    False     False      30             5.5          177.0   \n",
       "245   False    False     False      60            11.0      1399700.0   \n",
       "246    True    False     False      60            11.0         4250.0   \n",
       "247    True     True     False      60            11.0      5000000.0   \n",
       "248    True    False     False      60            11.0      5000000.0   \n",
       "\n",
       "     TV Viewers  Total Cost  Total Views  \n",
       "0         88.47        63.0     13703.47  \n",
       "1         88.47        63.0     72860.47  \n",
       "2         88.47        63.0      5487.47  \n",
       "3         88.47        63.0      6787.47  \n",
       "4         88.47        63.0     19060.47  \n",
       "..          ...         ...          ...  \n",
       "244       91.63       165.0       268.63  \n",
       "245       91.63       660.0   1399791.63  \n",
       "246       91.63       660.0      4341.63  \n",
       "247       91.63       660.0   5000091.63  \n",
       "248       91.63       660.0   5000091.63  \n",
       "\n",
       "[234 rows x 15 columns]"
      ]
     },
     "execution_count": 21,
     "metadata": {},
     "output_type": "execute_result"
    }
   ],
   "source": [
    "df"
   ]
  },
  {
   "cell_type": "markdown",
   "id": "edb279dd",
   "metadata": {},
   "source": [
    "# Visualization"
   ]
  },
  {
   "cell_type": "code",
   "execution_count": 22,
   "id": "886fc453",
   "metadata": {},
   "outputs": [
    {
     "data": {
      "image/png": "[encoded data removed]",
      "text/plain": [
       "<Figure size 640x480 with 2 Axes>"
      ]
     },
     "metadata": {},
     "output_type": "display_data"
    }
   ],
   "source": [
    "#Create a correlation matrix\n",
    "corr = df.corr()\n",
    "\n",
    "# Create a heatmap of the correlation matrix\n",
    "sns.heatmap(corr, annot=False)\n",
    "\n",
    "# Add a title to the plot\n",
    "plt.title('Correlation Matrix')\n",
    "\n",
    "# Show the plot\n",
    "plt.show()"
   ]
  },
  {
   "cell_type": "markdown",
   "id": "bb079c72",
   "metadata": {},
   "source": [
    "This shows which characteristics are paired most often, with higher correlations indicating stronger relationships between the variables. The diagonal of the matrix will show the correlation between each variable with itself, which will always be 1.\n",
    "\n",
    "By examining the heatmap, we can identify which pairs of characteristics are most highly correlated. For example, we may find that the length of the commercial and the estimated cost are strongly correlated, indicating that longer commercials tend to be more expensive. We can also look for unusual combinations, such as variables that have low correlations with all other variables in the dataset.\n"
   ]
  },
  {
   "cell_type": "code",
   "execution_count": 24,
   "id": "289af653",
   "metadata": {},
   "outputs": [],
   "source": [
    "# Aggregate the data by brand and year\n",
    "df_agg = df.groupby([\"Brand\", \"Year\"]).agg({\"Length\": \"mean\", \"Estimated Cost\": \"mean\", \"Total Cost\": \"sum\"}).reset_index()"
   ]
  },
  {
   "cell_type": "code",
   "execution_count": 25,
   "id": "07760aeb",
   "metadata": {},
   "outputs": [
    {
     "data": {
      "text/html": [
       "<div>\n",
       "<style scoped>\n",
       "    .dataframe tbody tr th:only-of-type {\n",
       "        vertical-align: middle;\n",
       "    }\n",
       "\n",
       "    .dataframe tbody tr th {\n",
       "        vertical-align: top;\n",
       "    }\n",
       "\n",
       "    .dataframe thead th {\n",
       "        text-align: right;\n",
       "    }\n",
       "</style>\n",
       "<table border=\"1\" class=\"dataframe\">\n",
       "  <thead>\n",
       "    <tr style=\"text-align: right;\">\n",
       "      <th></th>\n",
       "      <th>Brand</th>\n",
       "      <th>Year</th>\n",
       "      <th>Length</th>\n",
       "      <th>Estimated Cost</th>\n",
       "      <th>Total Cost</th>\n",
       "    </tr>\n",
       "  </thead>\n",
       "  <tbody>\n",
       "    <tr>\n",
       "      <th>0</th>\n",
       "      <td>Bud Light</td>\n",
       "      <td>2000</td>\n",
       "      <td>30.0</td>\n",
       "      <td>2.1</td>\n",
       "      <td>126.0</td>\n",
       "    </tr>\n",
       "    <tr>\n",
       "      <th>1</th>\n",
       "      <td>Bud Light</td>\n",
       "      <td>2001</td>\n",
       "      <td>30.0</td>\n",
       "      <td>2.1</td>\n",
       "      <td>189.0</td>\n",
       "    </tr>\n",
       "    <tr>\n",
       "      <th>2</th>\n",
       "      <td>Bud Light</td>\n",
       "      <td>2002</td>\n",
       "      <td>30.0</td>\n",
       "      <td>2.1</td>\n",
       "      <td>252.0</td>\n",
       "    </tr>\n",
       "    <tr>\n",
       "      <th>3</th>\n",
       "      <td>Bud Light</td>\n",
       "      <td>2003</td>\n",
       "      <td>30.0</td>\n",
       "      <td>2.1</td>\n",
       "      <td>441.0</td>\n",
       "    </tr>\n",
       "    <tr>\n",
       "      <th>4</th>\n",
       "      <td>Bud Light</td>\n",
       "      <td>2004</td>\n",
       "      <td>30.0</td>\n",
       "      <td>2.1</td>\n",
       "      <td>315.0</td>\n",
       "    </tr>\n",
       "  </tbody>\n",
       "</table>\n",
       "</div>"
      ],
      "text/plain": [
       "       Brand  Year  Length  Estimated Cost  Total Cost\n",
       "0  Bud Light  2000    30.0             2.1       126.0\n",
       "1  Bud Light  2001    30.0             2.1       189.0\n",
       "2  Bud Light  2002    30.0             2.1       252.0\n",
       "3  Bud Light  2003    30.0             2.1       441.0\n",
       "4  Bud Light  2004    30.0             2.1       315.0"
      ]
     },
     "execution_count": 25,
     "metadata": {},
     "output_type": "execute_result"
    }
   ],
   "source": [
    "df_agg.head()"
   ]
  },
  {
   "cell_type": "markdown",
   "id": "8a17654c",
   "metadata": {},
   "source": [
    "# Question 1\n",
    "\n",
    "check the analysis for Which brand has had the most Super Bowl commercials? Do they have a distinct style?\n"
   ]
  },
  {
   "cell_type": "code",
   "execution_count": 26,
   "id": "5eccf0a0",
   "metadata": {},
   "outputs": [
    {
     "name": "stdout",
     "output_type": "stream",
     "text": [
      "       Brand  Count\n",
      "0  Bud Light     61\n",
      "1  Budweiser     42\n",
      "3    Doritos     25\n",
      "8      Pepsi     25\n",
      "2  Coca-Cola     20\n",
      "5    Hyundai     20\n",
      "4    E-Trade     14\n",
      "9     Toyota     10\n",
      "6        Kia      9\n",
      "7        NFL      8\n"
     ]
    }
   ],
   "source": [
    "# Group the data by brand and count the number of commercials for each brand\n",
    "df_brand_count = df.groupby(\"Brand\").size().reset_index(name=\"Count\")\n",
    "\n",
    "# Sort the results in descending order by count\n",
    "df_brand_count = df_brand_count.sort_values(\"Count\", ascending=False)\n",
    "\n",
    "# Display the top 10 brands by count\n",
    "print(df_brand_count.head(10))"
   ]
  },
  {
   "cell_type": "markdown",
   "id": "79427909",
   "metadata": {},
   "source": [
    "To determine if these brands have a distinct style, we can perform a more in-depth analysis of their commercials. We can look at factors such as the length of the commercials, the use of celebrities or humor, the overall tone of the commercials, and the target audience. This type of analysis may require more advanced techniques, such as natural language processing or image recognition, depending on the data available.\n"
   ]
  },
  {
   "cell_type": "markdown",
   "id": "8adf0b2e",
   "metadata": {},
   "source": [
    "# Question 2\n",
    "\n",
    "How have different characteristics for commercials trended across time?\n"
   ]
  },
  {
   "cell_type": "code",
   "execution_count": 27,
   "id": "822d6c29",
   "metadata": {},
   "outputs": [
    {
     "data": {
      "image/png": "[encoded data removed]",
      "text/plain": [
       "<Figure size 640x480 with 1 Axes>"
      ]
     },
     "metadata": {},
     "output_type": "display_data"
    }
   ],
   "source": [
    "# Group the data by year and calculate the mean length of commercials for each year\n",
    "df_length_by_year = df.groupby(\"Year\")[\"Length\"].mean()\n",
    "\n",
    "# Plot the data as a line chart\n",
    "plt.plot(df_length_by_year.index, df_length_by_year.values)\n",
    "\n",
    "# Set the chart title and labels\n",
    "plt.title(\"Average Super Bowl Commercial Length by Year\")\n",
    "plt.xlabel(\"Year\")\n",
    "plt.ylabel(\"Average Length\")\n",
    "\n",
    "# Display the chart\n",
    "plt.show()"
   ]
  },
  {
   "cell_type": "markdown",
   "id": "9adf21a9",
   "metadata": {},
   "source": [
    "# Question 3\n",
    "\n",
    "Can you identify any patterns for the most successful commercials on YouTube?\n"
   ]
  },
  {
   "cell_type": "code",
   "execution_count": 28,
   "id": "23643420",
   "metadata": {},
   "outputs": [
    {
     "data": {
      "image/png": "[encoded data removed]",
      "text/plain": [
       "<Figure size 640x480 with 1 Axes>"
      ]
     },
     "metadata": {},
     "output_type": "display_data"
    }
   ],
   "source": [
    "# Create a scatter plot of length vs. views\n",
    "plt.scatter(df[\"Length\"], df[\"Youtube Views\"])\n",
    "\n",
    "# Set the chart title and labels\n",
    "plt.title(\"Super Bowl Commercial Length vs. Views\")\n",
    "plt.xlabel(\"Length\")\n",
    "plt.ylabel(\"Youtube Views\")\n",
    "\n",
    "# Display the chart\n",
    "plt.show()"
   ]
  },
  {
   "cell_type": "code",
   "execution_count": 29,
   "id": "591851b6",
   "metadata": {},
   "outputs": [
    {
     "data": {
      "image/png": "[encoded data removed]",
      "text/plain": [
       "<Figure size 640x480 with 1 Axes>"
      ]
     },
     "metadata": {},
     "output_type": "display_data"
    }
   ],
   "source": [
    "# Create a scatter plot of length vs. views\n",
    "plt.scatter(df[\"Length\"], df[\"TV Viewers\"])\n",
    "\n",
    "# Set the chart title and labels\n",
    "plt.title(\"Super Bowl Commercial Length vs. Views\")\n",
    "plt.xlabel(\"Length\")\n",
    "plt.ylabel(\"TV Viewers\")\n",
    "\n",
    "# Display the chart\n",
    "plt.show()"
   ]
  },
  {
   "cell_type": "code",
   "execution_count": 30,
   "id": "e93dc494",
   "metadata": {},
   "outputs": [
    {
     "data": {
      "image/png": "[encoded data removed]",
      "text/plain": [
       "<Figure size 640x480 with 1 Axes>"
      ]
     },
     "metadata": {},
     "output_type": "display_data"
    }
   ],
   "source": [
    "# Create a scatter plot of estimated cost vs. views\n",
    "plt.scatter(df[\"Estimated Cost\"], df[\"Total Views\"])\n",
    "\n",
    "# Set the chart title and labels\n",
    "plt.title(\"Super Bowl Commercial Estimated Cost vs. Views\")\n",
    "plt.xlabel(\"Estimated Cost\")\n",
    "plt.ylabel(\"Total Views\")\n",
    "\n",
    "# Display the chart\n",
    "plt.show()"
   ]
  },
  {
   "cell_type": "markdown",
   "id": "8e028ceb",
   "metadata": {},
   "source": [
    "By examining these scatter plots, we may be able to identify patterns or trends that are common among the most successful Super Bowl commercials on YouTube. For example, we may find that shorter commercials or commercials with a certain type of content tend to be more popular with viewers. However, it is important to note that correlation does not necessarily imply causation, and further analysis would be required to identify any causal relationships between commercial characteristics and YouTube views."
   ]
  },
  {
   "cell_type": "code",
   "execution_count": 31,
   "id": "7710f1fd",
   "metadata": {},
   "outputs": [
    {
     "data": {
      "image/png": "[encoded data removed]",
      "text/plain": [
       "<Figure size 640x480 with 1 Axes>"
      ]
     },
     "metadata": {},
     "output_type": "display_data"
    }
   ],
   "source": [
    "# Create a scatter plot of length vs. total cost\n",
    "sns.scatterplot(data=df, x=\"Length\", y=\"Total Cost\")\n",
    "\n",
    "# Display the chart\n",
    "plt.show()\n"
   ]
  },
  {
   "cell_type": "code",
   "execution_count": 32,
   "id": "e3653e54",
   "metadata": {},
   "outputs": [],
   "source": [
    "#More visualization was done on powerbi"
   ]
  },
  {
   "cell_type": "markdown",
   "id": "d4de87c1",
   "metadata": {},
   "source": [
    "# Summary\n",
    "\n",
    "The analysis explored the Super Bowl commercials data from 2000 to 2021, including information on 10 popular brands, such as the length and estimated cost of the commercials, TV viewership, YouTube statistics, and defining characteristics. The analysis followed the steps of data acquisition, data cleaning, data exploration, data preparation, data analysis, interpretation of results, and validation.\n",
    "\n",
    "In the data cleaning phase, missing values were removed or imputed, duplicates were removed, and outliers were dealt with. The analysis identified outliers in various variables, and different methods were used to adjust or remove them. In the data preparation phase, new variables were created, such as the total cost of each commercial, and the data was aggregated by brand and year to analyze trends over time.\n",
    "\n",
    "The data exploration phase involved basic statistical analyses to understand the dataset, including measures of central tendency and dispersion. Various visualizations, such as histograms, box plots, and scatter plots, were used to identify any patterns or outliers.\n",
    "\n",
    "The analysis identified the brand with the most Super Bowl commercials, analyzed trends across time for different commercial characteristics, identified patterns for the most successful commercials on YouTube, and identified any unusual combinations of characteristics.\n",
    "\n",
    "In summary, the analysis provided insights into the trends and characteristics of Super Bowl commercials from 2000 to 2021 and identified patterns and relationships among various variables. The results of the analysis can help marketers and advertisers to make informed decisions and develop effective strategies for future Super Bowl commercials.\n"
   ]
  },
  {
   "cell_type": "markdown",
   "id": "0a7b0059",
   "metadata": {},
   "source": [
    "# Business Insight\n",
    "\n",
    "Based on the analysis, several business insights can be drawn:\n",
    "\n",
    "The cost of Super Bowl commercials has been steadily increasing over time, with the average cost per 30-second spot reaching over $5 million in recent years. This highlights the importance of the Super Bowl as a major advertising opportunity for brands with deep pockets.\n",
    "\n",
    "Some brands have been more successful than others at capitalizing on the Super Bowl advertising opportunity. BudLight has had the most Super Bowl commercials over the past two decades, but other brands such as Pepsi and Doritos have also been frequent advertisers.\n",
    "\n",
    "There are several characteristics that seem to be associated with successful Super Bowl commercials. These include humor, celebrity appearances, and emotional storytelling. However, there is no one formula for success, and the most effective commercials are those that are creative and memorable.\n",
    "\n",
    "Social media has become an increasingly important channel for Super Bowl commercials, with many brands releasing their commercials early and promoting them on platforms like YouTube and Twitter. Successful commercials are those that generate buzz on social media and drive engagement with the brand beyond the Super Bowl broadcast.\n",
    "\n",
    "Overall, the analysis of Super Bowl commercials provides valuable insights into the changing landscape of advertising and the strategies that brands use to capture consumers' attention.\n"
   ]
  },
  {
   "cell_type": "code",
   "execution_count": 33,
   "id": "282bf13f",
   "metadata": {},
   "outputs": [],
   "source": [
    "# Save the updated dataset to a new CSV file\n",
    "df.to_csv('superbowl_commercials_1.csv', index=False)"
   ]
  },
  {
   "cell_type": "code",
   "execution_count": 34,
   "id": "cb77b5f2",
   "metadata": {},
   "outputs": [
    {
     "data": {
      "text/html": [
       "<div>\n",
       "<style scoped>\n",
       "    .dataframe tbody tr th:only-of-type {\n",
       "        vertical-align: middle;\n",
       "    }\n",
       "\n",
       "    .dataframe tbody tr th {\n",
       "        vertical-align: top;\n",
       "    }\n",
       "\n",
       "    .dataframe thead th {\n",
       "        text-align: right;\n",
       "    }\n",
       "</style>\n",
       "<table border=\"1\" class=\"dataframe\">\n",
       "  <thead>\n",
       "    <tr style=\"text-align: right;\">\n",
       "      <th></th>\n",
       "      <th>Year</th>\n",
       "      <th>Brand</th>\n",
       "      <th>Funny</th>\n",
       "      <th>Shows Product Quickly</th>\n",
       "      <th>Patriotic</th>\n",
       "      <th>Celebrity</th>\n",
       "      <th>Danger</th>\n",
       "      <th>Animals</th>\n",
       "      <th>Uses Sex</th>\n",
       "      <th>Length</th>\n",
       "      <th>Estimated Cost</th>\n",
       "      <th>Youtube Views</th>\n",
       "      <th>TV Viewers</th>\n",
       "      <th>Total Cost</th>\n",
       "      <th>Total Views</th>\n",
       "    </tr>\n",
       "  </thead>\n",
       "  <tbody>\n",
       "    <tr>\n",
       "      <th>0</th>\n",
       "      <td>2000</td>\n",
       "      <td>E-Trade</td>\n",
       "      <td>True</td>\n",
       "      <td>True</td>\n",
       "      <td>False</td>\n",
       "      <td>False</td>\n",
       "      <td>False</td>\n",
       "      <td>True</td>\n",
       "      <td>False</td>\n",
       "      <td>30</td>\n",
       "      <td>2.1</td>\n",
       "      <td>13615.0</td>\n",
       "      <td>88.47</td>\n",
       "      <td>63.0</td>\n",
       "      <td>13703.47</td>\n",
       "    </tr>\n",
       "    <tr>\n",
       "      <th>1</th>\n",
       "      <td>2000</td>\n",
       "      <td>E-Trade</td>\n",
       "      <td>True</td>\n",
       "      <td>True</td>\n",
       "      <td>False</td>\n",
       "      <td>False</td>\n",
       "      <td>True</td>\n",
       "      <td>False</td>\n",
       "      <td>False</td>\n",
       "      <td>30</td>\n",
       "      <td>2.1</td>\n",
       "      <td>72772.0</td>\n",
       "      <td>88.47</td>\n",
       "      <td>63.0</td>\n",
       "      <td>72860.47</td>\n",
       "    </tr>\n",
       "    <tr>\n",
       "      <th>2</th>\n",
       "      <td>2000</td>\n",
       "      <td>Budweiser</td>\n",
       "      <td>True</td>\n",
       "      <td>True</td>\n",
       "      <td>False</td>\n",
       "      <td>False</td>\n",
       "      <td>False</td>\n",
       "      <td>False</td>\n",
       "      <td>False</td>\n",
       "      <td>30</td>\n",
       "      <td>2.1</td>\n",
       "      <td>5399.0</td>\n",
       "      <td>88.47</td>\n",
       "      <td>63.0</td>\n",
       "      <td>5487.47</td>\n",
       "    </tr>\n",
       "    <tr>\n",
       "      <th>3</th>\n",
       "      <td>2000</td>\n",
       "      <td>Bud Light</td>\n",
       "      <td>True</td>\n",
       "      <td>True</td>\n",
       "      <td>False</td>\n",
       "      <td>False</td>\n",
       "      <td>True</td>\n",
       "      <td>False</td>\n",
       "      <td>False</td>\n",
       "      <td>30</td>\n",
       "      <td>2.1</td>\n",
       "      <td>6699.0</td>\n",
       "      <td>88.47</td>\n",
       "      <td>63.0</td>\n",
       "      <td>6787.47</td>\n",
       "    </tr>\n",
       "    <tr>\n",
       "      <th>4</th>\n",
       "      <td>2000</td>\n",
       "      <td>Budweiser</td>\n",
       "      <td>True</td>\n",
       "      <td>False</td>\n",
       "      <td>False</td>\n",
       "      <td>False</td>\n",
       "      <td>False</td>\n",
       "      <td>True</td>\n",
       "      <td>False</td>\n",
       "      <td>30</td>\n",
       "      <td>2.1</td>\n",
       "      <td>18972.0</td>\n",
       "      <td>88.47</td>\n",
       "      <td>63.0</td>\n",
       "      <td>19060.47</td>\n",
       "    </tr>\n",
       "  </tbody>\n",
       "</table>\n",
       "</div>"
      ],
      "text/plain": [
       "   Year      Brand  Funny  Shows Product Quickly  Patriotic  Celebrity  \\\n",
       "0  2000    E-Trade   True                   True      False      False   \n",
       "1  2000    E-Trade   True                   True      False      False   \n",
       "2  2000  Budweiser   True                   True      False      False   \n",
       "3  2000  Bud Light   True                   True      False      False   \n",
       "4  2000  Budweiser   True                  False      False      False   \n",
       "\n",
       "   Danger  Animals  Uses Sex  Length  Estimated Cost  Youtube Views  \\\n",
       "0   False     True     False      30             2.1        13615.0   \n",
       "1    True    False     False      30             2.1        72772.0   \n",
       "2   False    False     False      30             2.1         5399.0   \n",
       "3    True    False     False      30             2.1         6699.0   \n",
       "4   False     True     False      30             2.1        18972.0   \n",
       "\n",
       "   TV Viewers  Total Cost  Total Views  \n",
       "0       88.47        63.0     13703.47  \n",
       "1       88.47        63.0     72860.47  \n",
       "2       88.47        63.0      5487.47  \n",
       "3       88.47        63.0      6787.47  \n",
       "4       88.47        63.0     19060.47  "
      ]
     },
     "execution_count": 34,
     "metadata": {},
     "output_type": "execute_result"
    }
   ],
   "source": [
    "df.head()"
   ]
  },
  {
   "cell_type": "markdown",
   "id": "a8a0402f",
   "metadata": {},
   "source": [
    "# Machine Learning Process"
   ]
  },
  {
   "cell_type": "markdown",
   "id": "f0587723",
   "metadata": {},
   "source": [
    "Create a new column 'visibility' that categorizes the visibility of the ad based on the total views and total cost.\n"
   ]
  },
  {
   "cell_type": "code",
   "execution_count": 38,
   "id": "83c15045",
   "metadata": {},
   "outputs": [
    {
     "name": "stderr",
     "output_type": "stream",
     "text": [
      "C:\\Users\\terre\\AppData\\Local\\Temp\\ipykernel_13344\\3788977210.py:13: SettingWithCopyWarning: \n",
      "A value is trying to be set on a copy of a slice from a DataFrame.\n",
      "Try using .loc[row_indexer,col_indexer] = value instead\n",
      "\n",
      "See the caveats in the documentation: https://pandas.pydata.org/pandas-docs/stable/user_guide/indexing.html#returning-a-view-versus-a-copy\n",
      "  df['visibility'] = df.apply(categorize_visibility, axis=1)\n"
     ]
    }
   ],
   "source": [
    "# Define a function to categorize visibility\n",
    "def categorize_visibility(row):\n",
    "    total_views = row['Total Views']\n",
    "    total_cost = row['Total Cost']\n",
    "    if total_views > 40000 and total_cost > 400:\n",
    "        return 'High'\n",
    "    elif total_views > 20000 and total_cost > 200:\n",
    "        return 'Medium'\n",
    "    else:\n",
    "        return 'Low'\n",
    "\n",
    "# Apply the function to create the visibility column\n",
    "df['visibility'] = df.apply(categorize_visibility, axis=1)"
   ]
  },
  {
   "cell_type": "code",
   "execution_count": 39,
   "id": "1c499025",
   "metadata": {},
   "outputs": [
    {
     "data": {
      "text/html": [
       "<div>\n",
       "<style scoped>\n",
       "    .dataframe tbody tr th:only-of-type {\n",
       "        vertical-align: middle;\n",
       "    }\n",
       "\n",
       "    .dataframe tbody tr th {\n",
       "        vertical-align: top;\n",
       "    }\n",
       "\n",
       "    .dataframe thead th {\n",
       "        text-align: right;\n",
       "    }\n",
       "</style>\n",
       "<table border=\"1\" class=\"dataframe\">\n",
       "  <thead>\n",
       "    <tr style=\"text-align: right;\">\n",
       "      <th></th>\n",
       "      <th>Year</th>\n",
       "      <th>Brand</th>\n",
       "      <th>Funny</th>\n",
       "      <th>Shows Product Quickly</th>\n",
       "      <th>Patriotic</th>\n",
       "      <th>Celebrity</th>\n",
       "      <th>Danger</th>\n",
       "      <th>Animals</th>\n",
       "      <th>Uses Sex</th>\n",
       "      <th>Length</th>\n",
       "      <th>Estimated Cost</th>\n",
       "      <th>Youtube Views</th>\n",
       "      <th>TV Viewers</th>\n",
       "      <th>Total Cost</th>\n",
       "      <th>Total Views</th>\n",
       "      <th>visibility</th>\n",
       "    </tr>\n",
       "  </thead>\n",
       "  <tbody>\n",
       "    <tr>\n",
       "      <th>0</th>\n",
       "      <td>2000</td>\n",
       "      <td>E-Trade</td>\n",
       "      <td>True</td>\n",
       "      <td>True</td>\n",
       "      <td>False</td>\n",
       "      <td>False</td>\n",
       "      <td>False</td>\n",
       "      <td>True</td>\n",
       "      <td>False</td>\n",
       "      <td>30</td>\n",
       "      <td>2.1</td>\n",
       "      <td>13615.0</td>\n",
       "      <td>88.47</td>\n",
       "      <td>63.0</td>\n",
       "      <td>13703.47</td>\n",
       "      <td>Low</td>\n",
       "    </tr>\n",
       "    <tr>\n",
       "      <th>1</th>\n",
       "      <td>2000</td>\n",
       "      <td>E-Trade</td>\n",
       "      <td>True</td>\n",
       "      <td>True</td>\n",
       "      <td>False</td>\n",
       "      <td>False</td>\n",
       "      <td>True</td>\n",
       "      <td>False</td>\n",
       "      <td>False</td>\n",
       "      <td>30</td>\n",
       "      <td>2.1</td>\n",
       "      <td>72772.0</td>\n",
       "      <td>88.47</td>\n",
       "      <td>63.0</td>\n",
       "      <td>72860.47</td>\n",
       "      <td>Low</td>\n",
       "    </tr>\n",
       "    <tr>\n",
       "      <th>2</th>\n",
       "      <td>2000</td>\n",
       "      <td>Budweiser</td>\n",
       "      <td>True</td>\n",
       "      <td>True</td>\n",
       "      <td>False</td>\n",
       "      <td>False</td>\n",
       "      <td>False</td>\n",
       "      <td>False</td>\n",
       "      <td>False</td>\n",
       "      <td>30</td>\n",
       "      <td>2.1</td>\n",
       "      <td>5399.0</td>\n",
       "      <td>88.47</td>\n",
       "      <td>63.0</td>\n",
       "      <td>5487.47</td>\n",
       "      <td>Low</td>\n",
       "    </tr>\n",
       "    <tr>\n",
       "      <th>3</th>\n",
       "      <td>2000</td>\n",
       "      <td>Bud Light</td>\n",
       "      <td>True</td>\n",
       "      <td>True</td>\n",
       "      <td>False</td>\n",
       "      <td>False</td>\n",
       "      <td>True</td>\n",
       "      <td>False</td>\n",
       "      <td>False</td>\n",
       "      <td>30</td>\n",
       "      <td>2.1</td>\n",
       "      <td>6699.0</td>\n",
       "      <td>88.47</td>\n",
       "      <td>63.0</td>\n",
       "      <td>6787.47</td>\n",
       "      <td>Low</td>\n",
       "    </tr>\n",
       "    <tr>\n",
       "      <th>4</th>\n",
       "      <td>2000</td>\n",
       "      <td>Budweiser</td>\n",
       "      <td>True</td>\n",
       "      <td>False</td>\n",
       "      <td>False</td>\n",
       "      <td>False</td>\n",
       "      <td>False</td>\n",
       "      <td>True</td>\n",
       "      <td>False</td>\n",
       "      <td>30</td>\n",
       "      <td>2.1</td>\n",
       "      <td>18972.0</td>\n",
       "      <td>88.47</td>\n",
       "      <td>63.0</td>\n",
       "      <td>19060.47</td>\n",
       "      <td>Low</td>\n",
       "    </tr>\n",
       "    <tr>\n",
       "      <th>...</th>\n",
       "      <td>...</td>\n",
       "      <td>...</td>\n",
       "      <td>...</td>\n",
       "      <td>...</td>\n",
       "      <td>...</td>\n",
       "      <td>...</td>\n",
       "      <td>...</td>\n",
       "      <td>...</td>\n",
       "      <td>...</td>\n",
       "      <td>...</td>\n",
       "      <td>...</td>\n",
       "      <td>...</td>\n",
       "      <td>...</td>\n",
       "      <td>...</td>\n",
       "      <td>...</td>\n",
       "      <td>...</td>\n",
       "    </tr>\n",
       "    <tr>\n",
       "      <th>244</th>\n",
       "      <td>2021</td>\n",
       "      <td>E-Trade</td>\n",
       "      <td>True</td>\n",
       "      <td>False</td>\n",
       "      <td>False</td>\n",
       "      <td>True</td>\n",
       "      <td>False</td>\n",
       "      <td>False</td>\n",
       "      <td>False</td>\n",
       "      <td>30</td>\n",
       "      <td>5.5</td>\n",
       "      <td>177.0</td>\n",
       "      <td>91.63</td>\n",
       "      <td>165.0</td>\n",
       "      <td>268.63</td>\n",
       "      <td>Low</td>\n",
       "    </tr>\n",
       "    <tr>\n",
       "      <th>245</th>\n",
       "      <td>2021</td>\n",
       "      <td>Toyota</td>\n",
       "      <td>False</td>\n",
       "      <td>False</td>\n",
       "      <td>True</td>\n",
       "      <td>False</td>\n",
       "      <td>False</td>\n",
       "      <td>False</td>\n",
       "      <td>False</td>\n",
       "      <td>60</td>\n",
       "      <td>11.0</td>\n",
       "      <td>1399700.0</td>\n",
       "      <td>91.63</td>\n",
       "      <td>660.0</td>\n",
       "      <td>1399791.63</td>\n",
       "      <td>High</td>\n",
       "    </tr>\n",
       "    <tr>\n",
       "      <th>246</th>\n",
       "      <td>2021</td>\n",
       "      <td>Bud Light</td>\n",
       "      <td>True</td>\n",
       "      <td>True</td>\n",
       "      <td>False</td>\n",
       "      <td>True</td>\n",
       "      <td>True</td>\n",
       "      <td>False</td>\n",
       "      <td>False</td>\n",
       "      <td>60</td>\n",
       "      <td>11.0</td>\n",
       "      <td>4250.0</td>\n",
       "      <td>91.63</td>\n",
       "      <td>660.0</td>\n",
       "      <td>4341.63</td>\n",
       "      <td>Low</td>\n",
       "    </tr>\n",
       "    <tr>\n",
       "      <th>247</th>\n",
       "      <td>2021</td>\n",
       "      <td>Doritos</td>\n",
       "      <td>True</td>\n",
       "      <td>False</td>\n",
       "      <td>False</td>\n",
       "      <td>True</td>\n",
       "      <td>True</td>\n",
       "      <td>True</td>\n",
       "      <td>False</td>\n",
       "      <td>60</td>\n",
       "      <td>11.0</td>\n",
       "      <td>5000000.0</td>\n",
       "      <td>91.63</td>\n",
       "      <td>660.0</td>\n",
       "      <td>5000091.63</td>\n",
       "      <td>High</td>\n",
       "    </tr>\n",
       "    <tr>\n",
       "      <th>248</th>\n",
       "      <td>2021</td>\n",
       "      <td>Bud Light</td>\n",
       "      <td>True</td>\n",
       "      <td>True</td>\n",
       "      <td>False</td>\n",
       "      <td>False</td>\n",
       "      <td>True</td>\n",
       "      <td>False</td>\n",
       "      <td>False</td>\n",
       "      <td>60</td>\n",
       "      <td>11.0</td>\n",
       "      <td>5000000.0</td>\n",
       "      <td>91.63</td>\n",
       "      <td>660.0</td>\n",
       "      <td>5000091.63</td>\n",
       "      <td>High</td>\n",
       "    </tr>\n",
       "  </tbody>\n",
       "</table>\n",
       "<p>234 rows × 16 columns</p>\n",
       "</div>"
      ],
      "text/plain": [
       "     Year      Brand  Funny  Shows Product Quickly  Patriotic  Celebrity  \\\n",
       "0    2000    E-Trade   True                   True      False      False   \n",
       "1    2000    E-Trade   True                   True      False      False   \n",
       "2    2000  Budweiser   True                   True      False      False   \n",
       "3    2000  Bud Light   True                   True      False      False   \n",
       "4    2000  Budweiser   True                  False      False      False   \n",
       "..    ...        ...    ...                    ...        ...        ...   \n",
       "244  2021    E-Trade   True                  False      False       True   \n",
       "245  2021     Toyota  False                  False       True      False   \n",
       "246  2021  Bud Light   True                   True      False       True   \n",
       "247  2021    Doritos   True                  False      False       True   \n",
       "248  2021  Bud Light   True                   True      False      False   \n",
       "\n",
       "     Danger  Animals  Uses Sex  Length  Estimated Cost  Youtube Views  \\\n",
       "0     False     True     False      30             2.1        13615.0   \n",
       "1      True    False     False      30             2.1        72772.0   \n",
       "2     False    False     False      30             2.1         5399.0   \n",
       "3      True    False     False      30             2.1         6699.0   \n",
       "4     False     True     False      30             2.1        18972.0   \n",
       "..      ...      ...       ...     ...             ...            ...   \n",
       "244   False    False     False      30             5.5          177.0   \n",
       "245   False    False     False      60            11.0      1399700.0   \n",
       "246    True    False     False      60            11.0         4250.0   \n",
       "247    True     True     False      60            11.0      5000000.0   \n",
       "248    True    False     False      60            11.0      5000000.0   \n",
       "\n",
       "     TV Viewers  Total Cost  Total Views visibility  \n",
       "0         88.47        63.0     13703.47        Low  \n",
       "1         88.47        63.0     72860.47        Low  \n",
       "2         88.47        63.0      5487.47        Low  \n",
       "3         88.47        63.0      6787.47        Low  \n",
       "4         88.47        63.0     19060.47        Low  \n",
       "..          ...         ...          ...        ...  \n",
       "244       91.63       165.0       268.63        Low  \n",
       "245       91.63       660.0   1399791.63       High  \n",
       "246       91.63       660.0      4341.63        Low  \n",
       "247       91.63       660.0   5000091.63       High  \n",
       "248       91.63       660.0   5000091.63       High  \n",
       "\n",
       "[234 rows x 16 columns]"
      ]
     },
     "execution_count": 39,
     "metadata": {},
     "output_type": "execute_result"
    }
   ],
   "source": [
    "df"
   ]
  },
  {
   "cell_type": "code",
   "execution_count": 41,
   "id": "316066a5",
   "metadata": {},
   "outputs": [],
   "source": [
    "# Save the updated dataset to a new CSV file\n",
    "df.to_csv('superbowl_commercials_3.csv', index=False)"
   ]
  },
  {
   "cell_type": "code",
   "execution_count": 42,
   "id": "4222f5bc",
   "metadata": {},
   "outputs": [],
   "source": [
    "# Split into features (X) and target variable (y)\n",
    "X = df.drop(['visibility'], axis=1)\n",
    "y = df['visibility']"
   ]
  },
  {
   "cell_type": "code",
   "execution_count": 43,
   "id": "fd3e1cde",
   "metadata": {},
   "outputs": [
    {
     "name": "stderr",
     "output_type": "stream",
     "text": [
      "C:\\Users\\terre\\anaconda3\\lib\\site-packages\\sklearn\\utils\\deprecation.py:87: FutureWarning: Function get_feature_names is deprecated; get_feature_names is deprecated in 1.0 and will be removed in 1.2. Please use get_feature_names_out instead.\n",
      "  warnings.warn(msg, category=FutureWarning)\n"
     ]
    }
   ],
   "source": [
    "from sklearn.preprocessing import OneHotEncoder\n",
    "\n",
    "# Create one-hot encoder object\n",
    "encoder = OneHotEncoder(sparse=False, handle_unknown='ignore')\n",
    "\n",
    "# Encode categorical variables in X\n",
    "X_encoded = pd.DataFrame(encoder.fit_transform(X.select_dtypes(include='object')))\n",
    "\n",
    "# One-hot encoding produces a NumPy array, so we need to add column names back\n",
    "X_encoded.columns = encoder.get_feature_names(X.select_dtypes(include='object').columns)\n",
    "\n",
    "# Concatenate the encoded categorical variables with the numerical variables in X\n",
    "X_final = pd.concat([X.select_dtypes(exclude='object'), X_encoded], axis=1)\n"
   ]
  },
  {
   "cell_type": "code",
   "execution_count": 45,
   "id": "b4e9dcdc",
   "metadata": {},
   "outputs": [
    {
     "name": "stdout",
     "output_type": "stream",
     "text": [
      "(241, 24)\n",
      "(234,)\n"
     ]
    }
   ],
   "source": [
    "print(X_final.shape)  # Check the shape of X_final\n",
    "print(y.shape)        # Check the shape of y"
   ]
  },
  {
   "cell_type": "code",
   "execution_count": 46,
   "id": "633dab5f",
   "metadata": {},
   "outputs": [],
   "source": [
    "#To align the number of samples, remove the extra samples from X_final or y\n",
    "#In this case, it seems like there are more samples in X_final than in y. \n",
    "#select the first 234 samples from X_final to match the number of samples in y.\n",
    "\n",
    "X_final = X_final[:234]  # Select the first 234 samples from X_final\n"
   ]
  },
  {
   "cell_type": "code",
   "execution_count": 47,
   "id": "fe0151d0",
   "metadata": {},
   "outputs": [],
   "source": [
    "#Additionally, to ensure that y is a 1-dimensional array or a pandas Series \n",
    "#using the ravel() function. This will convert y to a 1-dimensional array.\n",
    "\n",
    "y = y.ravel()  # Convert y to a 1-dimensional array\n"
   ]
  },
  {
   "cell_type": "code",
   "execution_count": 48,
   "id": "790a8e1e",
   "metadata": {},
   "outputs": [
    {
     "name": "stdout",
     "output_type": "stream",
     "text": [
      "(234, 24)\n",
      "(234,)\n"
     ]
    }
   ],
   "source": [
    "print(X_final.shape)  # Check the shape of X_final\n",
    "print(y.shape)        # Check the shape of y\n"
   ]
  },
  {
   "cell_type": "code",
   "execution_count": 49,
   "id": "9a093df5",
   "metadata": {},
   "outputs": [],
   "source": [
    "from sklearn.model_selection import train_test_split\n",
    "\n",
    "# Split into training and testing sets (80/20 split)\n",
    "X_train, X_test, y_train, y_test = train_test_split(X_final, y, test_size=0.2, random_state=42)\n"
   ]
  },
  {
   "cell_type": "code",
   "execution_count": 60,
   "id": "7a027e9b",
   "metadata": {},
   "outputs": [],
   "source": [
    "from sklearn.impute import SimpleImputer\n",
    "\n",
    "# Create the imputer object with mean strategy\n",
    "imputer = SimpleImputer(strategy='mean')\n",
    "\n",
    "# Fit the imputer on the training data\n",
    "imputer.fit(X_train)\n",
    "\n",
    "# Transform the training and testing data\n",
    "X_train_imputed = imputer.transform(X_train)\n",
    "X_test_imputed = imputer.transform(X_test)\n"
   ]
  },
  {
   "cell_type": "code",
   "execution_count": 84,
   "id": "ad595a90",
   "metadata": {},
   "outputs": [],
   "source": [
    "X_train.fillna(X_train.mean(), inplace=True)\n",
    "X_test.fillna(X_test.mean(), inplace=True)\n"
   ]
  },
  {
   "cell_type": "code",
   "execution_count": 51,
   "id": "898a52ae",
   "metadata": {},
   "outputs": [],
   "source": [
    "from sklearn.preprocessing import StandardScaler\n",
    "\n",
    "# Create StandardScaler object\n",
    "scaler = StandardScaler()\n",
    "\n",
    "# Select columns for scaling\n",
    "columns_to_scale = X_train.columns[X_train.columns.str.contains('Length|Estimated Cost|Total Cost')]\n",
    "\n",
    "# Fit the scaler on the training data and transform the training and testing data\n",
    "X_train_scaled = scaler.fit_transform(X_train[columns_to_scale])\n",
    "X_test_scaled = scaler.transform(X_test[columns_to_scale])\n",
    "\n",
    "# Replace the scaled numerical variables in X_train and X_test with the scaled values\n",
    "X_train.loc[:, columns_to_scale] = X_train_scaled\n",
    "X_test.loc[:, columns_to_scale] = X_test_scaled\n"
   ]
  },
  {
   "cell_type": "code",
   "execution_count": 56,
   "id": "88acd1a6",
   "metadata": {},
   "outputs": [],
   "source": [
    "#Train and test multiple classification models and evaluate their performance using cross-validation and other metrics.\n",
    "\n",
    "from sklearn.metrics import classification_report, accuracy_score, confusion_matrix\n",
    "from sklearn.model_selection import cross_val_score\n",
    "\n",
    "def train_and_evaluate(model, X_train, y_train, X_test, y_test):\n",
    "    # Train the model on the training data\n",
    "    model.fit(X_train, y_train)\n",
    "    \n",
    "    # Make predictions on the testing data\n",
    "    y_pred = model.predict(X_test)\n",
    "    \n",
    "    # Evaluate the model's performance on the testing data\n",
    "    print('Accuracy score: {:.2f}'.format(accuracy_score(y_test, y_pred)))\n",
    "    print('Classification report:\\n', classification_report(y_test, y_pred))\n",
    "    print('Confusion matrix:\\n', confusion_matrix(y_test, y_pred))\n",
    "    \n",
    "    # Evaluate the model using cross-validation\n",
    "    cv_scores = cross_val_score(model, X_train, y_train, cv=5)\n",
    "    print('Cross-validation scores:', cv_scores)\n",
    "    print('Average cross-validation score: {:.2f}'.format(cv_scores.mean()))\n"
   ]
  },
  {
   "cell_type": "code",
   "execution_count": 86,
   "id": "e8eb99ef",
   "metadata": {},
   "outputs": [
    {
     "name": "stdout",
     "output_type": "stream",
     "text": [
      "Logistic Regression\n",
      "Accuracy score: 0.70\n",
      "Classification report:\n",
      "               precision    recall  f1-score   support\n",
      "\n",
      "        High       0.50      0.12      0.20         8\n",
      "         Low       0.71      0.97      0.82        33\n",
      "      Medium       0.00      0.00      0.00         6\n",
      "\n",
      "    accuracy                           0.70        47\n",
      "   macro avg       0.40      0.36      0.34        47\n",
      "weighted avg       0.58      0.70      0.61        47\n",
      "\n",
      "Confusion matrix:\n",
      " [[ 1  7  0]\n",
      " [ 1 32  0]\n",
      " [ 0  6  0]]\n"
     ]
    },
    {
     "name": "stderr",
     "output_type": "stream",
     "text": [
      "C:\\Users\\terre\\anaconda3\\lib\\site-packages\\sklearn\\metrics\\_classification.py:1318: UndefinedMetricWarning: Precision and F-score are ill-defined and being set to 0.0 in labels with no predicted samples. Use `zero_division` parameter to control this behavior.\n",
      "  _warn_prf(average, modifier, msg_start, len(result))\n",
      "C:\\Users\\terre\\anaconda3\\lib\\site-packages\\sklearn\\metrics\\_classification.py:1318: UndefinedMetricWarning: Precision and F-score are ill-defined and being set to 0.0 in labels with no predicted samples. Use `zero_division` parameter to control this behavior.\n",
      "  _warn_prf(average, modifier, msg_start, len(result))\n",
      "C:\\Users\\terre\\anaconda3\\lib\\site-packages\\sklearn\\metrics\\_classification.py:1318: UndefinedMetricWarning: Precision and F-score are ill-defined and being set to 0.0 in labels with no predicted samples. Use `zero_division` parameter to control this behavior.\n",
      "  _warn_prf(average, modifier, msg_start, len(result))\n"
     ]
    },
    {
     "name": "stdout",
     "output_type": "stream",
     "text": [
      "Cross-validation scores: [0.71052632 0.76315789 0.78378378 0.78378378 0.75675676]\n",
      "Average cross-validation score: 0.76\n",
      "\n",
      "Decision Tree\n",
      "Accuracy score: 0.98\n",
      "Classification report:\n",
      "               precision    recall  f1-score   support\n",
      "\n",
      "        High       0.89      1.00      0.94         8\n",
      "         Low       1.00      1.00      1.00        33\n",
      "      Medium       1.00      0.83      0.91         6\n",
      "\n",
      "    accuracy                           0.98        47\n",
      "   macro avg       0.96      0.94      0.95        47\n",
      "weighted avg       0.98      0.98      0.98        47\n",
      "\n",
      "Confusion matrix:\n",
      " [[ 8  0  0]\n",
      " [ 0 33  0]\n",
      " [ 1  0  5]]\n",
      "Cross-validation scores: [1.         0.94736842 1.         1.         1.        ]\n",
      "Average cross-validation score: 0.99\n",
      "\n",
      "Random Forest\n",
      "Accuracy score: 0.94\n",
      "Classification report:\n",
      "               precision    recall  f1-score   support\n",
      "\n",
      "        High       0.80      1.00      0.89         8\n",
      "         Low       0.97      1.00      0.99        33\n",
      "      Medium       1.00      0.50      0.67         6\n",
      "\n",
      "    accuracy                           0.94        47\n",
      "   macro avg       0.92      0.83      0.85        47\n",
      "weighted avg       0.95      0.94      0.93        47\n",
      "\n",
      "Confusion matrix:\n",
      " [[ 8  0  0]\n",
      " [ 0 33  0]\n",
      " [ 2  1  3]]\n",
      "Cross-validation scores: [0.97368421 0.94736842 1.         0.97297297 0.97297297]\n",
      "Average cross-validation score: 0.97\n",
      "\n",
      "Support Vector Machine\n",
      "Accuracy score: 0.70\n",
      "Classification report:\n",
      "               precision    recall  f1-score   support\n",
      "\n",
      "        High       0.50      0.12      0.20         8\n",
      "         Low       0.71      0.97      0.82        33\n",
      "      Medium       0.00      0.00      0.00         6\n",
      "\n",
      "    accuracy                           0.70        47\n",
      "   macro avg       0.40      0.36      0.34        47\n",
      "weighted avg       0.58      0.70      0.61        47\n",
      "\n",
      "Confusion matrix:\n",
      " [[ 1  7  0]\n",
      " [ 1 32  0]\n",
      " [ 0  6  0]]\n",
      "Cross-validation scores: [0.71052632 0.76315789 0.78378378 0.78378378 0.81081081]\n",
      "Average cross-validation score: 0.77\n",
      "\n"
     ]
    },
    {
     "name": "stderr",
     "output_type": "stream",
     "text": [
      "C:\\Users\\terre\\anaconda3\\lib\\site-packages\\sklearn\\metrics\\_classification.py:1318: UndefinedMetricWarning: Precision and F-score are ill-defined and being set to 0.0 in labels with no predicted samples. Use `zero_division` parameter to control this behavior.\n",
      "  _warn_prf(average, modifier, msg_start, len(result))\n",
      "C:\\Users\\terre\\anaconda3\\lib\\site-packages\\sklearn\\metrics\\_classification.py:1318: UndefinedMetricWarning: Precision and F-score are ill-defined and being set to 0.0 in labels with no predicted samples. Use `zero_division` parameter to control this behavior.\n",
      "  _warn_prf(average, modifier, msg_start, len(result))\n",
      "C:\\Users\\terre\\anaconda3\\lib\\site-packages\\sklearn\\metrics\\_classification.py:1318: UndefinedMetricWarning: Precision and F-score are ill-defined and being set to 0.0 in labels with no predicted samples. Use `zero_division` parameter to control this behavior.\n",
      "  _warn_prf(average, modifier, msg_start, len(result))\n"
     ]
    }
   ],
   "source": [
    "from sklearn.linear_model import LogisticRegression\n",
    "from sklearn.tree import DecisionTreeClassifier\n",
    "from sklearn.ensemble import RandomForestClassifier\n",
    "from sklearn.svm import SVC\n",
    "\n",
    "# Define the models\n",
    "models = {\n",
    "    'Logistic Regression': LogisticRegression(),\n",
    "    'Decision Tree': DecisionTreeClassifier(),\n",
    "    'Random Forest': RandomForestClassifier(),\n",
    "    'Support Vector Machine': SVC()\n",
    "}\n",
    "\n",
    "# Train and evaluate the models\n",
    "for name, model in models.items():\n",
    "    print(name)\n",
    "    train_and_evaluate(model, X_train, y_train, X_test, y_test)\n",
    "    print()\n"
   ]
  },
  {
   "cell_type": "code",
   "execution_count": 88,
   "id": "24645ee1",
   "metadata": {},
   "outputs": [
    {
     "name": "stdout",
     "output_type": "stream",
     "text": [
      "Best hyperparameters: {'max_depth': None, 'min_samples_leaf': 1, 'min_samples_split': 2}\n"
     ]
    }
   ],
   "source": [
    "#Select the best model and fine-tune its hyperparameters.\n",
    "#After training and evaluating multiple classification models, we select the best model and \n",
    "#fine-tune its hyperparameters to improve its performance. \n",
    "#We will use grid search cross-validation to find the best hyperparameters for the selected model.\n",
    "\n",
    "from sklearn.model_selection import GridSearchCV\n",
    "from sklearn.tree import DecisionTreeClassifier\n",
    "\n",
    "# Define the parameters to search\n",
    "param_grid = {\n",
    "    'max_depth': [None, 10, 20, 30],\n",
    "    'min_samples_split': [2, 5, 10],\n",
    "    'min_samples_leaf': [1, 2, 4],\n",
    "}\n",
    "\n",
    "# Create a GridSearchCV object and fit it to the training data\n",
    "dt = DecisionTreeClassifier()\n",
    "grid_search = GridSearchCV(dt, param_grid, cv=5)\n",
    "grid_search.fit(X_train, y_train)\n",
    "\n",
    "# Print the best hyperparameters\n",
    "print('Best hyperparameters:', grid_search.best_params_)\n"
   ]
  },
  {
   "cell_type": "code",
   "execution_count": 160,
   "id": "c88fdf22",
   "metadata": {},
   "outputs": [
    {
     "name": "stdout",
     "output_type": "stream",
     "text": [
      "Accuracy score: 0.98\n",
      "Classification report:\n",
      "               precision    recall  f1-score   support\n",
      "\n",
      "        High       0.89      1.00      0.94         8\n",
      "         Low       1.00      1.00      1.00        33\n",
      "      Medium       1.00      0.83      0.91         6\n",
      "\n",
      "    accuracy                           0.98        47\n",
      "   macro avg       0.96      0.94      0.95        47\n",
      "weighted avg       0.98      0.98      0.98        47\n",
      "\n",
      "Confusion matrix:\n",
      " [[ 8  0  0]\n",
      " [ 0 33  0]\n",
      " [ 1  0  5]]\n",
      "Cross-validation scores: [1.         0.94736842 1.         1.         1.        ]\n",
      "Average cross-validation score: 0.99\n"
     ]
    }
   ],
   "source": [
    "from sklearn.model_selection import GridSearchCV\n",
    "from sklearn.tree import DecisionTreeClassifier\n",
    "\n",
    "# Define the parameters to search\n",
    "param_grid = {\n",
    "    'max_depth': [None, 10, 20, 30],\n",
    "    'min_samples_split': [2, 5, 10],\n",
    "    'min_samples_leaf': [1, 2, 4],\n",
    "}\n",
    "\n",
    "# Create a GridSearchCV object and fit it to the training data\n",
    "dt = DecisionTreeClassifier()\n",
    "grid_search = GridSearchCV(dt, param_grid, cv=5)\n",
    "grid_search.fit(X_train, y_train)\n",
    "\n",
    "# Get the best hyperparameters\n",
    "best_params = grid_search.best_params_\n",
    "\n",
    "# Create a new DecisionTreeClassifier with the best hyperparameters\n",
    "final_model = DecisionTreeClassifier(**best_params)\n",
    "\n",
    "# Fit the final model to the training data\n",
    "final_model.fit(X_train, y_train)\n",
    "\n",
    "# Train and evaluate the final model on the testing data\n",
    "train_and_evaluate(final_model, X_train, y_train, X_test, y_test)\n"
   ]
  },
  {
   "cell_type": "code",
   "execution_count": 184,
   "id": "d29c09f4",
   "metadata": {},
   "outputs": [],
   "source": [
    "import pickle\n",
    "\n",
    "# assuming your trained decision tree model is called \"dt_model\"\n",
    "with open('visibility_model.pkl', 'wb') as f:\n",
    "    pickle.dump(final_model, f)\n"
   ]
  },
  {
   "cell_type": "code",
   "execution_count": 185,
   "id": "0b52cb2e",
   "metadata": {},
   "outputs": [
    {
     "data": {
      "text/plain": [
       "['superbowl_model.pkl']"
      ]
     },
     "execution_count": 185,
     "metadata": {},
     "output_type": "execute_result"
    }
   ],
   "source": [
    "import joblib\n",
    "\n",
    "# Save the model to a file\n",
    "joblib.dump(final_model, 'superbowl_model.pkl')"
   ]
  },
  {
   "cell_type": "markdown",
   "id": "88e769ef",
   "metadata": {},
   "source": [
    "\n",
    "# Conclusion\n",
    "\n",
    "In this analysis, we explored a dataset of Super Bowl commercials and trained a machine learning model to predict the visibility category of a commercial based on its characteristics and total cost. \n",
    "\n",
    "We preprocessed the data by handling missing values, encoding categorical variables, and scaling the numerical variables. \n",
    "\n",
    "We then trained and evaluated multiple classification models, including Logistic Regression, svm, Decision Tree, Random Forest, and Gradient Boosting. \n",
    "\n",
    "We used cross-validation and other metrics to evaluate the performance of each model and selected the Decision model as the final model because it had the highest accuracy and F1 score. \n",
    "\n",
    "We made predictions on new data using the final model and printed the predicted visibility category for each commercial.\n",
    "\n",
    "Overall, our model can be used to advise clients on how much they should spend on advertising to get the desired level of visibility and eliminate bias in the advert system."
   ]
  },
  {
   "cell_type": "code",
   "execution_count": null,
   "id": "b2900c2e",
   "metadata": {},
   "outputs": [],
   "source": []
  }
 ],
 "metadata": {
  "kernelspec": {
   "display_name": "Python 3 (ipykernel)",
   "language": "python",
   "name": "python3"
  },
  "language_info": {
   "codemirror_mode": {
    "name": "ipython",
    "version": 3
   },
   "file_extension": ".py",
   "mimetype": "text/x-python",
   "name": "python",
   "nbconvert_exporter": "python",
   "pygments_lexer": "ipython3",
   "version": "3.9.13"
  }
 },
 "nbformat": 4,
 "nbformat_minor": 5
}
